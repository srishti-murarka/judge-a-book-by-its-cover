{
 "cells": [
  {
   "cell_type": "code",
   "execution_count": 24,
   "metadata": {
    "collapsed": false
   },
   "outputs": [],
   "source": [
    "import numpy as np\n",
    "import pandas as pd\n",
    "import re\n",
    "from sklearn.feature_extraction.text import TfidfVectorizer"
   ]
  },
  {
   "cell_type": "code",
   "execution_count": 25,
   "metadata": {
    "collapsed": true
   },
   "outputs": [],
   "source": [
    "data = pd.read_csv('book32-listing.csv',encoding = \"ISO-8859-1\")"
   ]
  },
  {
   "cell_type": "code",
   "execution_count": 26,
   "metadata": {
    "collapsed": true
   },
   "outputs": [],
   "source": [
    "###dsa as as \n",
    "columns = ['Id', 'Image', 'Image_link', 'Title', 'Author', 'Class', 'Genre']\n",
    "data.columns = columns"
   ]
  },
  {
   "cell_type": "code",
   "execution_count": 27,
   "metadata": {
    "collapsed": true
   },
   "outputs": [],
   "source": [
    "books = pd.DataFrame(data['Title'])\n",
    "author = pd.DataFrame(data['Author'])\n",
    "genre = pd.DataFrame(data['Genre'])"
   ]
  },
  {
   "cell_type": "code",
   "execution_count": 28,
   "metadata": {
    "collapsed": false
   },
   "outputs": [],
   "source": [
    "data['Author'] = data['Author'].fillna('No Book')\n",
    "data['Title'] = data['Title'].fillna('No Book')"
   ]
  },
  {
   "cell_type": "code",
   "execution_count": 29,
   "metadata": {
    "collapsed": false
   },
   "outputs": [
    {
     "name": "stdout",
     "output_type": "stream",
     "text": [
      "207571\n",
      "207571\n"
     ]
    },
    {
     "data": {
      "text/html": [
       "<div>\n",
       "<table border=\"1\" class=\"dataframe\">\n",
       "  <thead>\n",
       "    <tr style=\"text-align: right;\">\n",
       "      <th></th>\n",
       "      <th>Title</th>\n",
       "    </tr>\n",
       "  </thead>\n",
       "  <tbody>\n",
       "    <tr>\n",
       "      <th>50000</th>\n",
       "      <td>The Ultimate Sock Puppet Book: Clever Tips, Tr...</td>\n",
       "    </tr>\n",
       "    <tr>\n",
       "      <th>50001</th>\n",
       "      <td>Puppets, Masks, and Performing Objects</td>\n",
       "    </tr>\n",
       "    <tr>\n",
       "      <th>50002</th>\n",
       "      <td>Felt Board Fingerplays with Patterns &amp; Activit...</td>\n",
       "    </tr>\n",
       "    <tr>\n",
       "      <th>50003</th>\n",
       "      <td>Jim Henson and Philosophy: Imagination and the...</td>\n",
       "    </tr>\n",
       "    <tr>\n",
       "      <th>50004</th>\n",
       "      <td>Wael Shawky: Cabaret Crusades</td>\n",
       "    </tr>\n",
       "    <tr>\n",
       "      <th>50005</th>\n",
       "      <td>A Show of Hands: Using Puppets with Young Chil...</td>\n",
       "    </tr>\n",
       "    <tr>\n",
       "      <th>50006</th>\n",
       "      <td>Knitted Fairy Tales: Retell the Famous Fables ...</td>\n",
       "    </tr>\n",
       "    <tr>\n",
       "      <th>50007</th>\n",
       "      <td>Marionettes: How to Make and Work Them</td>\n",
       "    </tr>\n",
       "    <tr>\n",
       "      <th>50008</th>\n",
       "      <td>The Complete Book of Marionettes</td>\n",
       "    </tr>\n",
       "    <tr>\n",
       "      <th>50009</th>\n",
       "      <td>Puppet Mania!</td>\n",
       "    </tr>\n",
       "    <tr>\n",
       "      <th>50010</th>\n",
       "      <td>The Complete Book of Puppetry (Dover Craft Books)</td>\n",
       "    </tr>\n",
       "    <tr>\n",
       "      <th>50011</th>\n",
       "      <td>Making Shadow Puppets (Kids Can Do It)</td>\n",
       "    </tr>\n",
       "    <tr>\n",
       "      <th>50012</th>\n",
       "      <td>Jim Henson's Designs and Doodles: A Muppet Ske...</td>\n",
       "    </tr>\n",
       "    <tr>\n",
       "      <th>50013</th>\n",
       "      <td>Animal Heads: Trophy Heads to Crochet</td>\n",
       "    </tr>\n",
       "    <tr>\n",
       "      <th>50014</th>\n",
       "      <td>Mini-Mosaic Quilts: 30+ Block Designs  14 Proj...</td>\n",
       "    </tr>\n",
       "    <tr>\n",
       "      <th>50015</th>\n",
       "      <td>Me and My Shadows - Shadow Puppet Fun for Kids...</td>\n",
       "    </tr>\n",
       "    <tr>\n",
       "      <th>50016</th>\n",
       "      <td>Stop-Motion Armature Machining: A Construction...</td>\n",
       "    </tr>\n",
       "    <tr>\n",
       "      <th>50017</th>\n",
       "      <td>Cloth Doll Artistry: Design and Costuming Tech...</td>\n",
       "    </tr>\n",
       "    <tr>\n",
       "      <th>50018</th>\n",
       "      <td>The Muppets Make Puppets: How to Create and Op...</td>\n",
       "    </tr>\n",
       "    <tr>\n",
       "      <th>50019</th>\n",
       "      <td>Story-gami Kit: Create Origami Using Folding S...</td>\n",
       "    </tr>\n",
       "    <tr>\n",
       "      <th>50020</th>\n",
       "      <td>Crocheted Finger Puppets (Cozy)</td>\n",
       "    </tr>\n",
       "    <tr>\n",
       "      <th>50021</th>\n",
       "      <td>One-Person Puppet Plays:</td>\n",
       "    </tr>\n",
       "    <tr>\n",
       "      <th>50022</th>\n",
       "      <td>Figure Making Can Be Fun?!?: A complete guide ...</td>\n",
       "    </tr>\n",
       "    <tr>\n",
       "      <th>50023</th>\n",
       "      <td>Puppet Play: 20 Puppet Projects Made with Recy...</td>\n",
       "    </tr>\n",
       "    <tr>\n",
       "      <th>50024</th>\n",
       "      <td>How to Make Puppets With Children</td>\n",
       "    </tr>\n",
       "    <tr>\n",
       "      <th>50025</th>\n",
       "      <td>Puppets, Jumping Jacks and Other Paper People ...</td>\n",
       "    </tr>\n",
       "    <tr>\n",
       "      <th>50026</th>\n",
       "      <td>Inside the Drama-House: Rama Stories and Shado...</td>\n",
       "    </tr>\n",
       "    <tr>\n",
       "      <th>50027</th>\n",
       "      <td>The Complete Book of Puppets and Puppeteering</td>\n",
       "    </tr>\n",
       "    <tr>\n",
       "      <th>50028</th>\n",
       "      <td>Puppet Theatre (Crafts and Family Activities)</td>\n",
       "    </tr>\n",
       "    <tr>\n",
       "      <th>50029</th>\n",
       "      <td>Punch and Judy: A Short History with the Origi...</td>\n",
       "    </tr>\n",
       "    <tr>\n",
       "      <th>...</th>\n",
       "      <td>...</td>\n",
       "    </tr>\n",
       "    <tr>\n",
       "      <th>50080</th>\n",
       "      <td>Thunderstruck</td>\n",
       "    </tr>\n",
       "    <tr>\n",
       "      <th>50081</th>\n",
       "      <td>Build Your Own Transistor Radios: A Hobbyist's...</td>\n",
       "    </tr>\n",
       "    <tr>\n",
       "      <th>50082</th>\n",
       "      <td>Basic Antennas</td>\n",
       "    </tr>\n",
       "    <tr>\n",
       "      <th>50083</th>\n",
       "      <td>Ham Radio Study Guide: Manual for Technician C...</td>\n",
       "    </tr>\n",
       "    <tr>\n",
       "      <th>50084</th>\n",
       "      <td>From GSM to LTE-Advanced: An Introduction to M...</td>\n",
       "    </tr>\n",
       "    <tr>\n",
       "      <th>50085</th>\n",
       "      <td>An Introduction to LTE: LTE, LTE-Advanced, SAE...</td>\n",
       "    </tr>\n",
       "    <tr>\n",
       "      <th>50086</th>\n",
       "      <td>Fundamentals of 5G Mobile Networks</td>\n",
       "    </tr>\n",
       "    <tr>\n",
       "      <th>50087</th>\n",
       "      <td>No-Nonsense General Class License Study Guide:...</td>\n",
       "    </tr>\n",
       "    <tr>\n",
       "      <th>50088</th>\n",
       "      <td>Millimeter Wave Wireless Communications</td>\n",
       "    </tr>\n",
       "    <tr>\n",
       "      <th>50089</th>\n",
       "      <td>Basic Radio</td>\n",
       "    </tr>\n",
       "    <tr>\n",
       "      <th>50090</th>\n",
       "      <td>CW Geek's Guide to Having Fun with Morse Code</td>\n",
       "    </tr>\n",
       "    <tr>\n",
       "      <th>50091</th>\n",
       "      <td>LTE-Advanced: A Practical Systems Approach to ...</td>\n",
       "    </tr>\n",
       "    <tr>\n",
       "      <th>50092</th>\n",
       "      <td>No-Nonsense Technician Class License Study Gui...</td>\n",
       "    </tr>\n",
       "    <tr>\n",
       "      <th>50093</th>\n",
       "      <td>RF Circuit Design: Theory &amp; Applications (2nd ...</td>\n",
       "    </tr>\n",
       "    <tr>\n",
       "      <th>50094</th>\n",
       "      <td>ARRL's Wire Antenna Classics</td>\n",
       "    </tr>\n",
       "    <tr>\n",
       "      <th>50095</th>\n",
       "      <td>Rich App Poor App</td>\n",
       "    </tr>\n",
       "    <tr>\n",
       "      <th>50096</th>\n",
       "      <td>Radio-Frequency Capacitive Discharges</td>\n",
       "    </tr>\n",
       "    <tr>\n",
       "      <th>50097</th>\n",
       "      <td>Nifty E-Z Guide to D-STAR Operation</td>\n",
       "    </tr>\n",
       "    <tr>\n",
       "      <th>50098</th>\n",
       "      <td>Two-Way Radios and Scanners For Dummies</td>\n",
       "    </tr>\n",
       "    <tr>\n",
       "      <th>50099</th>\n",
       "      <td>DIY Comms and Control for Amateur Space: Talki...</td>\n",
       "    </tr>\n",
       "    <tr>\n",
       "      <th>50100</th>\n",
       "      <td>CWDP Certified Wireless Design Professional Of...</td>\n",
       "    </tr>\n",
       "    <tr>\n",
       "      <th>50101</th>\n",
       "      <td>The Arrl Satellite Handbook</td>\n",
       "    </tr>\n",
       "    <tr>\n",
       "      <th>50102</th>\n",
       "      <td>Satellite Communications Payload and System</td>\n",
       "    </tr>\n",
       "    <tr>\n",
       "      <th>50103</th>\n",
       "      <td>Radio Frequency System Architecture and Design</td>\n",
       "    </tr>\n",
       "    <tr>\n",
       "      <th>50104</th>\n",
       "      <td>Ham and Shortwave Radio for the Electronics Ho...</td>\n",
       "    </tr>\n",
       "    <tr>\n",
       "      <th>50105</th>\n",
       "      <td>4G: LTE/LTE-Advanced for Mobile Broadband, Sec...</td>\n",
       "    </tr>\n",
       "    <tr>\n",
       "      <th>50106</th>\n",
       "      <td>Spotlight Synthetic Aperture Radar: Signal Pro...</td>\n",
       "    </tr>\n",
       "    <tr>\n",
       "      <th>50107</th>\n",
       "      <td>Heterogeneous Cellular Networks: Theory, Simul...</td>\n",
       "    </tr>\n",
       "    <tr>\n",
       "      <th>50108</th>\n",
       "      <td>Plain-English Study Guide for the General Radi...</td>\n",
       "    </tr>\n",
       "    <tr>\n",
       "      <th>50109</th>\n",
       "      <td>Quick Study for Your General Class Amateur Rad...</td>\n",
       "    </tr>\n",
       "  </tbody>\n",
       "</table>\n",
       "<p>110 rows × 1 columns</p>\n",
       "</div>"
      ],
      "text/plain": [
       "                                                   Title\n",
       "50000  The Ultimate Sock Puppet Book: Clever Tips, Tr...\n",
       "50001             Puppets, Masks, and Performing Objects\n",
       "50002  Felt Board Fingerplays with Patterns & Activit...\n",
       "50003  Jim Henson and Philosophy: Imagination and the...\n",
       "50004                      Wael Shawky: Cabaret Crusades\n",
       "50005  A Show of Hands: Using Puppets with Young Chil...\n",
       "50006  Knitted Fairy Tales: Retell the Famous Fables ...\n",
       "50007             Marionettes: How to Make and Work Them\n",
       "50008                   The Complete Book of Marionettes\n",
       "50009                                      Puppet Mania!\n",
       "50010  The Complete Book of Puppetry (Dover Craft Books)\n",
       "50011             Making Shadow Puppets (Kids Can Do It)\n",
       "50012  Jim Henson's Designs and Doodles: A Muppet Ske...\n",
       "50013              Animal Heads: Trophy Heads to Crochet\n",
       "50014  Mini-Mosaic Quilts: 30+ Block Designs  14 Proj...\n",
       "50015  Me and My Shadows - Shadow Puppet Fun for Kids...\n",
       "50016  Stop-Motion Armature Machining: A Construction...\n",
       "50017  Cloth Doll Artistry: Design and Costuming Tech...\n",
       "50018  The Muppets Make Puppets: How to Create and Op...\n",
       "50019  Story-gami Kit: Create Origami Using Folding S...\n",
       "50020                    Crocheted Finger Puppets (Cozy)\n",
       "50021                           One-Person Puppet Plays:\n",
       "50022  Figure Making Can Be Fun?!?: A complete guide ...\n",
       "50023  Puppet Play: 20 Puppet Projects Made with Recy...\n",
       "50024                  How to Make Puppets With Children\n",
       "50025  Puppets, Jumping Jacks and Other Paper People ...\n",
       "50026  Inside the Drama-House: Rama Stories and Shado...\n",
       "50027      The Complete Book of Puppets and Puppeteering\n",
       "50028      Puppet Theatre (Crafts and Family Activities)\n",
       "50029  Punch and Judy: A Short History with the Origi...\n",
       "...                                                  ...\n",
       "50080                                      Thunderstruck\n",
       "50081  Build Your Own Transistor Radios: A Hobbyist's...\n",
       "50082                                     Basic Antennas\n",
       "50083  Ham Radio Study Guide: Manual for Technician C...\n",
       "50084  From GSM to LTE-Advanced: An Introduction to M...\n",
       "50085  An Introduction to LTE: LTE, LTE-Advanced, SAE...\n",
       "50086                 Fundamentals of 5G Mobile Networks\n",
       "50087  No-Nonsense General Class License Study Guide:...\n",
       "50088            Millimeter Wave Wireless Communications\n",
       "50089                                        Basic Radio\n",
       "50090      CW Geek's Guide to Having Fun with Morse Code\n",
       "50091  LTE-Advanced: A Practical Systems Approach to ...\n",
       "50092  No-Nonsense Technician Class License Study Gui...\n",
       "50093  RF Circuit Design: Theory & Applications (2nd ...\n",
       "50094                       ARRL's Wire Antenna Classics\n",
       "50095                                  Rich App Poor App\n",
       "50096              Radio-Frequency Capacitive Discharges\n",
       "50097                Nifty E-Z Guide to D-STAR Operation\n",
       "50098            Two-Way Radios and Scanners For Dummies\n",
       "50099  DIY Comms and Control for Amateur Space: Talki...\n",
       "50100  CWDP Certified Wireless Design Professional Of...\n",
       "50101                        The Arrl Satellite Handbook\n",
       "50102        Satellite Communications Payload and System\n",
       "50103     Radio Frequency System Architecture and Design\n",
       "50104  Ham and Shortwave Radio for the Electronics Ho...\n",
       "50105  4G: LTE/LTE-Advanced for Mobile Broadband, Sec...\n",
       "50106  Spotlight Synthetic Aperture Radar: Signal Pro...\n",
       "50107  Heterogeneous Cellular Networks: Theory, Simul...\n",
       "50108  Plain-English Study Guide for the General Radi...\n",
       "50109  Quick Study for Your General Class Amateur Rad...\n",
       "\n",
       "[110 rows x 1 columns]"
      ]
     },
     "execution_count": 29,
     "metadata": {},
     "output_type": "execute_result"
    }
   ],
   "source": [
    "print (len(books))\n",
    "print (len(genre))\n",
    "genre.head(2)\n",
    "books[50000:50110]"
   ]
  },
  {
   "cell_type": "code",
   "execution_count": 30,
   "metadata": {
    "collapsed": false
   },
   "outputs": [
    {
     "name": "stdout",
     "output_type": "stream",
     "text": [
      "207571\n",
      "207571\n"
     ]
    }
   ],
   "source": [
    "print (len(books))\n",
    "print (len(genre))\n",
    "#print (len(all_books))\n",
    "#print (len(all_genres))"
   ]
  },
  {
   "cell_type": "code",
   "execution_count": 31,
   "metadata": {
    "collapsed": false
   },
   "outputs": [
    {
     "data": {
      "text/plain": [
       "array(['Calendars', 'Comics & Graphic Novels', 'Test Preparation',\n",
       "       'Mystery, Thriller & Suspense', 'Science Fiction & Fantasy',\n",
       "       'Romance', 'Humor & Entertainment', 'Literature & Fiction',\n",
       "       'Gay & Lesbian', 'Engineering & Transportation',\n",
       "       'Cookbooks, Food & Wine', 'Crafts, Hobbies & Home',\n",
       "       'Arts & Photography', 'Education & Teaching',\n",
       "       'Parenting & Relationships', 'Self-Help', 'Computers & Technology',\n",
       "       'Medical Books', 'Science & Math', 'Health, Fitness & Dieting',\n",
       "       'Business & Money', 'Law', 'Biographies & Memoirs', 'History',\n",
       "       'Politics & Social Sciences', 'Reference',\n",
       "       'Christian Books & Bibles', 'Religion & Spirituality',\n",
       "       'Sports & Outdoors', 'Teen & Young Adult', \"Children's Books\",\n",
       "       'Travel'], dtype=object)"
      ]
     },
     "execution_count": 31,
     "metadata": {},
     "output_type": "execute_result"
    }
   ],
   "source": [
    "genre['Genre'].unique()"
   ]
  },
  {
   "cell_type": "code",
   "execution_count": 32,
   "metadata": {
    "collapsed": false
   },
   "outputs": [],
   "source": [
    "from sklearn.preprocessing import LabelEncoder\n",
    "\n",
    "feat = ['Genre']\n",
    "for x in feat:\n",
    "    le = LabelEncoder()\n",
    "    le.fit(list(genre[x].values))\n",
    "    genre[x] = le.transform(list(genre[x]))\n",
    "    "
   ]
  },
  {
   "cell_type": "code",
   "execution_count": 33,
   "metadata": {
    "collapsed": false
   },
   "outputs": [
    {
     "data": {
      "text/plain": [
       "array([ 3,  6, 30, 19, 26, 24, 15, 17, 12, 11,  8,  9,  0, 10, 20, 27,  7,\n",
       "       18, 25, 13,  2, 16,  1, 14, 21, 22,  5, 23, 28, 29,  4, 31])"
      ]
     },
     "execution_count": 33,
     "metadata": {},
     "output_type": "execute_result"
    }
   ],
   "source": [
    "genre['Genre'].unique()"
   ]
  },
  {
   "cell_type": "code",
   "execution_count": 34,
   "metadata": {
    "collapsed": false
   },
   "outputs": [
    {
     "data": {
      "text/plain": [
       "'Arts & Photography'"
      ]
     },
     "execution_count": 34,
     "metadata": {},
     "output_type": "execute_result"
    }
   ],
   "source": [
    "le.inverse_transform([0])[0]"
   ]
  },
  {
   "cell_type": "code",
   "execution_count": 35,
   "metadata": {
    "collapsed": false
   },
   "outputs": [
    {
     "name": "stdout",
     "output_type": "stream",
     "text": [
      "0         Doug the Pug 2016 Wall Calendar Doug the Pug\n",
      "1    Moleskine 2016 Weekly Notebook, 12M, Large, Bl...\n",
      "2    365 Cats Color Page-A-Day Calendar 2016 Workma...\n",
      "3     Sierra Club Engagement Calendar 2016 Sierra Club\n",
      "4     Sierra Club Wilderness Calendar 2016 Sierra Club\n",
      "Name: everything, dtype: object\n"
     ]
    }
   ],
   "source": [
    "data['everything'] = pd.DataFrame(data['Title'] + ' ' + data['Author'])\n",
    "print (data['everything'].head(5))\n",
    "#for i,j in enumerate(data['everything']):\n",
    "#    data['everything'][i] = data['everything'][i].lower()\n",
    "#data['everything'] = data['everything'].str.lower()"
   ]
  },
  {
   "cell_type": "code",
   "execution_count": 36,
   "metadata": {
    "collapsed": false
   },
   "outputs": [],
   "source": [
    "#(data['everything'].head(5))"
   ]
  },
  {
   "cell_type": "code",
   "execution_count": 13,
   "metadata": {
    "collapsed": true
   },
   "outputs": [],
   "source": [
    "def change(t):\n",
    "    t = t.split()\n",
    "    return ' '.join([(i) for (i) in t if i not in stop])"
   ]
  },
  {
   "cell_type": "code",
   "execution_count": 14,
   "metadata": {
    "collapsed": false
   },
   "outputs": [
    {
     "data": {
      "text/plain": [
       "['i', 'me', 'my', 'myself', 'we', 'our', 'ours', 'ourselves', 'you', 'your']"
      ]
     },
     "execution_count": 14,
     "metadata": {},
     "output_type": "execute_result"
    }
   ],
   "source": [
    "from nltk.corpus import stopwords\n",
    "stop = list(stopwords.words('english'))\n",
    "stop[:10]"
   ]
  },
  {
   "cell_type": "code",
   "execution_count": null,
   "metadata": {
    "collapsed": false
   },
   "outputs": [],
   "source": [
    "#remove_list = ['the','at','or']\n",
    "#for i,j in enumerate(data['everything']):\n",
    "#    t = data['everything'][i].split()\n",
    "#    data['everything'][i] = ' '.join([str(i) for (i) in t if i not in stop])"
   ]
  },
  {
   "cell_type": "code",
   "execution_count": 15,
   "metadata": {
    "collapsed": false
   },
   "outputs": [
    {
     "data": {
      "text/plain": [
       "0                      doug pug 2016 wall calendar doug pug\n",
       "1         moleskine 2016 weekly notebook, 12m, large, bl...\n",
       "2         365 cats color page-a-day calendar 2016 workma...\n",
       "3          sierra club engagement calendar 2016 sierra club\n",
       "4          sierra club wilderness calendar 2016 sierra club\n",
       "5         thomas kinkade: disney dreams collection 2016 ...\n",
       "6                       ansel adams 2016 wall calendar book\n",
       "7              dilbert 2016 day-to-day calendar scott adams\n",
       "8         mary engelbreit 2016 deluxe wall calendar: nev...\n",
       "9         cat page-a-day gallery calendar 2016 workman p...\n",
       "10         llewellyn's 2016 witches' datebook jane meredith\n",
       "11        2016 amy knapp big grid wall calendar: essenti...\n",
       "12                       outlander 2016 wall calendar starz\n",
       "13        audubon nature wall calendar 2016 national aud...\n",
       "14        2016 national park foundation wall calendar na...\n",
       "15        color year wall calendar 2016: mindful colorin...\n",
       "16        mary engelbreit 2016 day-to-day calendar: enjo...\n",
       "17                 grumpy cat 2016 wall calendar grumpy cat\n",
       "18        moleskine 2016 weekly notebook, 12m, extra lar...\n",
       "19        llewellyn's 2016 witches' calendar barbara ard...\n",
       "20        moleskine 2016 weekly notebook, 12m, pocket, b...\n",
       "21             2016 susan branch wall calendar susan branch\n",
       "22        365 dogs color page-a-day calendar 2016 workma...\n",
       "23        dog page-a-day gallery calendar 2016 workman p...\n",
       "24        maxine year-in-a-box calendar (2016) year-in-a...\n",
       "25        disney descendants wall calendar (2016) day dream\n",
       "26                      walking dead 2016 wall calendar amc\n",
       "27        complete runner's day-by-day log 2016 calendar...\n",
       "28        llewellyn's 2016 astrological calendar: 83rd e...\n",
       "29        today going great day! color page-a-day calend...\n",
       "                                ...                        \n",
       "207541    washington view: nation's capital since 1790 j...\n",
       "207542    mr. lincoln's forts: guide civil war defenses ...\n",
       "207543    quick escapes washington, d.c., 5th: getaways ...\n",
       "207544    25 bicycle tours around washington, d.c.: capi...\n",
       "207545    dirt cheap, real good: highway guide thrift st...\n",
       "207546    frommer's washington, d.c. 2006 (frommer's com...\n",
       "207547    frommer's washington d.c. day day (frommer's d...\n",
       "207548      mapeasy's guidemap washington d.c. inc. mapeasy\n",
       "207549    access washington, d.c. 9e (access guides) ric...\n",
       "207550    washington, d.c. (a picture book remember by) ...\n",
       "207551    washington, d.c.: guided tour history (timelin...\n",
       "207552    eyewitness travel guide washington, dc (eyewit...\n",
       "207553    frommer's irreverent guide washington, d.c. (i...\n",
       "207554    washington - collection nostalgic contemporary...\n",
       "207555    new washington one-day trip book: 101 offbeat ...\n",
       "207556    rand mcnally 8th edition washington, d.c. metr...\n",
       "207557    dog lover's companion washington, dc-baltimore...\n",
       "207558    insideout washington d.c. city guide (insideou...\n",
       "207559    natural washington: guide hikers, bikers, bird...\n",
       "207560            lonely planet washington, dc mara vorhees\n",
       "207561    let's go pocket city guide washington, d.c., 1...\n",
       "207562    washington, d.c. pocket guide (pocket guides) ...\n",
       "207563               time washington, dc (time guides) time\n",
       "207564    one-day trips history: 200 excursions within 1...\n",
       "207565    country walks near washington (country walks b...\n",
       "207566    adc map people washington d.c.: street map boo...\n",
       "207567    washington, d.c., now: 69 sites photographed p...\n",
       "207568    unofficial guide washington, d.c. (unofficial ...\n",
       "207569    washington, d.c. dummies (dummies travel) tom ...\n",
       "207570    fodor's weekend around boston, 1st edition (sp...\n",
       "Name: everything, dtype: object"
      ]
     },
     "execution_count": 15,
     "metadata": {},
     "output_type": "execute_result"
    }
   ],
   "source": [
    "data['everything'].apply(change)"
   ]
  },
  {
   "cell_type": "code",
   "execution_count": 37,
   "metadata": {
    "collapsed": true
   },
   "outputs": [],
   "source": [
    "from sklearn.feature_extraction.text import TfidfVectorizer"
   ]
  },
  {
   "cell_type": "code",
   "execution_count": 38,
   "metadata": {
    "collapsed": false
   },
   "outputs": [
    {
     "data": {
      "text/plain": [
       "(207571, 58432)"
      ]
     },
     "execution_count": 38,
     "metadata": {},
     "output_type": "execute_result"
    }
   ],
   "source": [
    "vectorizer = TfidfVectorizer(min_df=2, max_features=70000, strip_accents='unicode',lowercase =True,\n",
    "                            analyzer='word', token_pattern=r'\\w+', use_idf=True, \n",
    "                            smooth_idf=True, sublinear_tf=True, stop_words = 'english')\n",
    "vectors = vectorizer.fit_transform(data['everything'])\n",
    "vectors.shape"
   ]
  },
  {
   "cell_type": "code",
   "execution_count": null,
   "metadata": {
    "collapsed": true
   },
   "outputs": [],
   "source": []
  },
  {
   "cell_type": "code",
   "execution_count": null,
   "metadata": {
    "collapsed": false
   },
   "outputs": [],
   "source": []
  },
  {
   "cell_type": "code",
   "execution_count": 51,
   "metadata": {
    "collapsed": false
   },
   "outputs": [],
   "source": [
    "from sklearn.naive_bayes import MultinomialNB\n",
    "from sklearn import metrics\n",
    "from sklearn.cross_validation import StratifiedKFold, cross_val_score, train_test_split "
   ]
  },
  {
   "cell_type": "code",
   "execution_count": 52,
   "metadata": {
    "collapsed": false
   },
   "outputs": [],
   "source": [
    "X_train, X_test, y_train, y_test = train_test_split(vectors, genre['Genre'], test_size=0.02)"
   ]
  },
  {
   "cell_type": "code",
   "execution_count": 53,
   "metadata": {
    "collapsed": false
   },
   "outputs": [
    {
     "name": "stdout",
     "output_type": "stream",
     "text": [
      "(203419, 58432)\n",
      "(203419,)\n",
      "(4152, 58432)\n",
      "(4152,)\n"
     ]
    }
   ],
   "source": [
    "print (X_train.shape)\n",
    "print (y_train.shape)\n",
    "print (X_test.shape)\n",
    "print (y_test.shape)"
   ]
  },
  {
   "cell_type": "code",
   "execution_count": 54,
   "metadata": {
    "collapsed": false
   },
   "outputs": [
    {
     "data": {
      "text/plain": [
       "pandas.core.frame.DataFrame"
      ]
     },
     "execution_count": 54,
     "metadata": {},
     "output_type": "execute_result"
    }
   ],
   "source": [
    "type(books)"
   ]
  },
  {
   "cell_type": "markdown",
   "metadata": {},
   "source": [
    "## Gaussian NB"
   ]
  },
  {
   "cell_type": "code",
   "execution_count": 55,
   "metadata": {
    "collapsed": false
   },
   "outputs": [
    {
     "name": "stdout",
     "output_type": "stream",
     "text": [
      "0.51328258082\n",
      "0.621387283237\n"
     ]
    },
    {
     "name": "stderr",
     "output_type": "stream",
     "text": [
      "/anaconda/lib/python3.6/site-packages/sklearn/metrics/classification.py:1113: UndefinedMetricWarning: F-score is ill-defined and being set to 0.0 in labels with no predicted samples.\n",
      "  'precision', 'predicted', average, warn_for)\n"
     ]
    }
   ],
   "source": [
    "clf = MultinomialNB(alpha=.45)\n",
    "clf.fit(X_train, y_train)\n",
    "pred = clf.predict(X_test)\n",
    "print (metrics.f1_score(y_test, pred, average='macro'))\n",
    "print (metrics.accuracy_score(y_test, pred))"
   ]
  },
  {
   "cell_type": "markdown",
   "metadata": {},
   "source": [
    "## Logistic Regression"
   ]
  },
  {
   "cell_type": "code",
   "execution_count": 56,
   "metadata": {
    "collapsed": false
   },
   "outputs": [
    {
     "name": "stdout",
     "output_type": "stream",
     "text": [
      "0.590129110519\n",
      "0.654624277457\n"
     ]
    }
   ],
   "source": [
    "from sklearn import linear_model\n",
    "clf = linear_model.LogisticRegression(solver= 'sag',max_iter=200,random_state=450)\n",
    "clf.fit(X_train, y_train)\n",
    "pred = clf.predict(X_test)\n",
    "print (metrics.f1_score(y_test, pred, average='macro'))\n",
    "print (metrics.accuracy_score(y_test, pred))"
   ]
  },
  {
   "cell_type": "code",
   "execution_count": 57,
   "metadata": {
    "collapsed": false
   },
   "outputs": [
    {
     "name": "stdout",
     "output_type": "stream",
     "text": [
      "(1, 58432)\n"
     ]
    }
   ],
   "source": [
    "text = ['I too had a Love Story']\n",
    "text[0] = text[0].lower()\n",
    "#text = list(text)\n",
    "s = (vectorizer.transform(text))\n",
    "#s = vectorizer.fit_transform(df)\n",
    "print (s.shape)\n",
    "d = (clf.predict(s))"
   ]
  },
  {
   "cell_type": "code",
   "execution_count": 58,
   "metadata": {
    "collapsed": false
   },
   "outputs": [
    {
     "data": {
      "text/plain": [
       "'Biographies & Memoirs'"
      ]
     },
     "execution_count": 58,
     "metadata": {},
     "output_type": "execute_result"
    }
   ],
   "source": [
    "le.inverse_transform(d)[0]"
   ]
  },
  {
   "cell_type": "markdown",
   "metadata": {},
   "source": [
    "## Saving Model"
   ]
  },
  {
   "cell_type": "code",
   "execution_count": 61,
   "metadata": {
    "collapsed": false
   },
   "outputs": [
    {
     "name": "stdout",
     "output_type": "stream",
     "text": [
      "Model Saved\n"
     ]
    }
   ],
   "source": [
    "from sklearn.externals import joblib\n",
    "joblib.dump(clf, 'best.pkl')\n",
    "print (\"Model Saved\")"
   ]
  },
  {
   "cell_type": "code",
   "execution_count": 62,
   "metadata": {
    "collapsed": false
   },
   "outputs": [],
   "source": [
    "clf = joblib.load('best.pkl')"
   ]
  },
  {
   "cell_type": "code",
   "execution_count": 63,
   "metadata": {
    "collapsed": false
   },
   "outputs": [
    {
     "data": {
      "text/plain": [
       "LogisticRegression(C=1.0, class_weight=None, dual=False, fit_intercept=True,\n",
       "          intercept_scaling=1, max_iter=200, multi_class='ovr', n_jobs=1,\n",
       "          penalty='l2', random_state=450, solver='sag', tol=0.0001,\n",
       "          verbose=0, warm_start=False)"
      ]
     },
     "execution_count": 63,
     "metadata": {},
     "output_type": "execute_result"
    }
   ],
   "source": [
    "clf"
   ]
  },
  {
   "cell_type": "markdown",
   "metadata": {},
   "source": [
    "## Neural Network"
   ]
  },
  {
   "cell_type": "code",
   "execution_count": 44,
   "metadata": {
    "collapsed": false
   },
   "outputs": [
    {
     "name": "stdout",
     "output_type": "stream",
     "text": [
      "0.355046080127\n",
      "0.529383429672\n"
     ]
    },
    {
     "name": "stderr",
     "output_type": "stream",
     "text": [
      "/anaconda/lib/python3.6/site-packages/sklearn/neural_network/multilayer_perceptron.py:565: UserWarning: Training interrupted by user.\n",
      "  warnings.warn(\"Training interrupted by user.\")\n",
      "/anaconda/lib/python3.6/site-packages/sklearn/metrics/classification.py:1113: UndefinedMetricWarning: F-score is ill-defined and being set to 0.0 in labels with no predicted samples.\n",
      "  'precision', 'predicted', average, warn_for)\n"
     ]
    }
   ],
   "source": [
    "from sklearn.neural_network import MLPClassifier\n",
    "clf = MLPClassifier(activation='logistic', alpha=0.00003, batch_size='auto',\n",
    "                   beta_1=0.9, beta_2=0.999, early_stopping=False,\n",
    "                   epsilon=1e-08, hidden_layer_sizes=(20,), learning_rate='constant',\n",
    "                   learning_rate_init=0.003, max_iter=200, momentum=0.9,\n",
    "                   nesterovs_momentum=True, power_t=0.5, random_state=1, shuffle=True,\n",
    "                   solver='adam', tol=0.0001, validation_fraction=0.1, verbose=False,\n",
    "                   warm_start=False)\n",
    "clf.fit(X_train, y_train) \n",
    "pred = clf.predict(X_test)\n",
    "print (metrics.f1_score(y_test, pred, average='macro'))\n",
    "print (metrics.accuracy_score(y_test, pred))"
   ]
  },
  {
   "cell_type": "code",
   "execution_count": 45,
   "metadata": {
    "collapsed": false
   },
   "outputs": [
    {
     "name": "stdout",
     "output_type": "stream",
     "text": [
      "(1, 117281)\n"
     ]
    }
   ],
   "source": [
    "text = ['Until It Fades: A Novel']\n",
    "#text = list(text)\n",
    "s = (vectorizer.transform(text))\n",
    "#s = vectorizer.fit_transform(df)\n",
    "print (s.shape)\n",
    "d = (clf.predict(s))"
   ]
  },
  {
   "cell_type": "code",
   "execution_count": 46,
   "metadata": {
    "collapsed": false
   },
   "outputs": [
    {
     "data": {
      "text/plain": [
       "'Literature & Fiction'"
      ]
     },
     "execution_count": 46,
     "metadata": {},
     "output_type": "execute_result"
    }
   ],
   "source": [
    "le.inverse_transform(d)[0]"
   ]
  },
  {
   "cell_type": "markdown",
   "metadata": {},
   "source": [
    "## SVM"
   ]
  },
  {
   "cell_type": "code",
   "execution_count": null,
   "metadata": {
    "collapsed": false
   },
   "outputs": [],
   "source": [
    "import xgboost as xgb\n",
    "dtrain = xgb.DMatrix(data=X_train, label = y_train)\n",
    "dtest = xgb.DMatrix(data=X_test)"
   ]
  },
  {
   "cell_type": "code",
   "execution_count": null,
   "metadata": {
    "collapsed": true
   },
   "outputs": [],
   "source": [
    "params = {\n",
    "    'objective':'multi:softmax',\n",
    "    'eval_metric':'mlogloss',\n",
    "    'eta':0.025,\n",
    "    'max_depth':10,\n",
    "    'subsample':0.7,\n",
    "    'colsample_bytree':0.7,\n",
    "    'min_child_weight':5,\n",
    "    'num_class': 32\n",
    "    \n",
    "}"
   ]
  },
  {
   "cell_type": "code",
   "execution_count": null,
   "metadata": {
    "collapsed": true
   },
   "outputs": [],
   "source": [
    "bst = xgb.cv(params, dtrain, num_boost_round=100,\n",
    "early_stopping_rounds=40, nfold=5, verbose_eval=10)"
   ]
  },
  {
   "cell_type": "code",
   "execution_count": null,
   "metadata": {
    "collapsed": false
   },
   "outputs": [],
   "source": [
    "bst_train = xgb.train(params, dtrain, num_boost_round=10) "
   ]
  },
  {
   "cell_type": "code",
   "execution_count": null,
   "metadata": {
    "collapsed": true
   },
   "outputs": [],
   "source": [
    "p_test = bst_train.predict(dtest)"
   ]
  },
  {
   "cell_type": "code",
   "execution_count": null,
   "metadata": {
    "collapsed": false
   },
   "outputs": [],
   "source": [
    "print (metrics.f1_score(y_test, p_test, average='macro'))\n",
    "print (metrics.accuracy_score(y_test, p_test)) "
   ]
  },
  {
   "cell_type": "code",
   "execution_count": 2,
   "metadata": {
    "collapsed": true
   },
   "outputs": [
    {
     "ename": "NameError",
     "evalue": "name 'vectorizer' is not defined",
     "output_type": "error",
     "traceback": [
      "\u001b[31m---------------------------------------------------------------------------\u001b[39m",
      "\u001b[31mNameError\u001b[39m                                 Traceback (most recent call last)",
      "\u001b[36mCell\u001b[39m\u001b[36m \u001b[39m\u001b[32mIn[2]\u001b[39m\u001b[32m, line 3\u001b[39m\n\u001b[32m      1\u001b[39m text = [\u001b[33m'\u001b[39m\u001b[33mFifty Shades of Grey\u001b[39m\u001b[33m'\u001b[39m]\n\u001b[32m      2\u001b[39m \u001b[38;5;66;03m#text = list(text)\u001b[39;00m\n\u001b[32m----> \u001b[39m\u001b[32m3\u001b[39m s = (\u001b[43mvectorizer\u001b[49m.transform(text))\n\u001b[32m      4\u001b[39m \u001b[38;5;66;03m#s = vectorizer.fit_transform(df)\u001b[39;00m\n\u001b[32m      5\u001b[39m \u001b[38;5;28mprint\u001b[39m (s.shape)\n",
      "\u001b[31mNameError\u001b[39m: name 'vectorizer' is not defined"
     ]
    }
   ],
   "source": [
    "text = ['Fifty Shades of Grey']\n",
    "#text = list(text)\n",
    "s = (vectorizer.transform(text))\n",
    "#s = vectorizer.fit_transform(df)\n",
    "print (s.shape)\n",
    "p = (bst_train.predict(s))"
   ]
  },
  {
   "cell_type": "code",
   "execution_count": null,
   "metadata": {
    "collapsed": true
   },
   "outputs": [],
   "source": [
    "le.inverse_transform(d)[0]"
   ]
  }
 ],
 "metadata": {
  "kernelspec": {
   "display_name": "Python 3",
   "language": "python",
   "name": "python3"
  },
  "language_info": {
   "codemirror_mode": {
    "name": "ipython",
    "version": 3
   },
   "file_extension": ".py",
   "mimetype": "text/x-python",
   "name": "python",
   "nbconvert_exporter": "python",
   "pygments_lexer": "ipython3",
   "version": "3.11.2"
  }
 },
 "nbformat": 4,
 "nbformat_minor": 2
}
